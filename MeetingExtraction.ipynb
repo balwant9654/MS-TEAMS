{
 "cells": [
  {
   "cell_type": "code",
   "execution_count": 1,
   "metadata": {},
   "outputs": [
    {
     "name": "stdout",
     "output_type": "stream",
     "text": [
      "Requirement already satisfied: selenium in c:\\users\\ballu\\anaconda3\\lib\\site-packages (3.141.0)\n",
      "Requirement already satisfied: urllib3 in c:\\users\\ballu\\anaconda3\\lib\\site-packages (from selenium) (1.24.2)\n"
     ]
    }
   ],
   "source": [
    "!pip install selenium"
   ]
  },
  {
   "cell_type": "code",
   "execution_count": 2,
   "metadata": {},
   "outputs": [],
   "source": [
    "from selenium import webdriver\n",
    "import getpass\n",
    "import time"
   ]
  },
  {
   "cell_type": "code",
   "execution_count": 3,
   "metadata": {},
   "outputs": [],
   "source": [
    "driver = webdriver.Chrome()"
   ]
  },
  {
   "cell_type": "code",
   "execution_count": 4,
   "metadata": {},
   "outputs": [],
   "source": [
    "login = \"https://www.microsoft.com/en-in/microsoft-teams/log-in\"\n",
    "driver.get(login)\n",
    "SignIn = driver.find_element_by_link_text(\"Sign in\")\n",
    "SignIn.click()"
   ]
  },
  {
   "cell_type": "code",
   "execution_count": 5,
   "metadata": {},
   "outputs": [],
   "source": [
    "window_after = driver.window_handles\n",
    "driver.switch_to.window(window_after[1])"
   ]
  },
  {
   "cell_type": "code",
   "execution_count": 6,
   "metadata": {},
   "outputs": [
    {
     "name": "stdout",
     "output_type": "stream",
     "text": [
      "Enter your email Id : 181210015@nitdelhi.ac.in\n"
     ]
    }
   ],
   "source": [
    "Email = input(\"Enter your email Id : \")\n",
    "driver.find_element_by_id(\"i0116\").send_keys(Email)\n",
    "driver.find_element_by_xpath(\"//input[@value='Next']\").click()"
   ]
  },
  {
   "cell_type": "code",
   "execution_count": 7,
   "metadata": {},
   "outputs": [
    {
     "name": "stdout",
     "output_type": "stream",
     "text": [
      "Enter your password : ········\n"
     ]
    }
   ],
   "source": [
    "Password = getpass.getpass(prompt=\"Enter your password : \")\n",
    "driver.find_element_by_id(\"i0118\").send_keys(Password)\n",
    "time.sleep(2)\n",
    "driver.find_element_by_xpath(\"//input[@value='Sign in']\").click()"
   ]
  },
  {
   "cell_type": "code",
   "execution_count": 8,
   "metadata": {},
   "outputs": [],
   "source": [
    "window_after = driver.window_handles\n",
    "driver.switch_to.window(window_after[1])\n",
    "driver.find_element_by_xpath(\"//input[@value='Yes']\").click()"
   ]
  },
  {
   "cell_type": "code",
   "execution_count": 9,
   "metadata": {},
   "outputs": [],
   "source": [
    "#Redirecting the page\n",
    "window_after = driver.window_handles\n",
    "driver.switch_to.window(window_after[1])"
   ]
  },
  {
   "cell_type": "code",
   "execution_count": 10,
   "metadata": {},
   "outputs": [],
   "source": [
    "teams = driver.find_elements_by_class_name(\"team-name-text\")"
   ]
  },
  {
   "cell_type": "code",
   "execution_count": 11,
   "metadata": {},
   "outputs": [],
   "source": [
    "teams_name = []\n",
    "for team in teams:\n",
    "    teams_name.append(team.text)"
   ]
  },
  {
   "cell_type": "code",
   "execution_count": 12,
   "metadata": {},
   "outputs": [
    {
     "data": {
      "text/plain": [
       "['Operating System',\n",
       " 'Computer Networks [CSB 304] Lab G1',\n",
       " 'Artificial Intelligence',\n",
       " 'Compiler Design-CSB 353 Theory',\n",
       " 'CSB352 Data Mining',\n",
       " 'Compiler Design Lab - CSB 353 [G1+G2]',\n",
       " 'NP-CSE-3rd Year',\n",
       " 'Training & Placement Cell']"
      ]
     },
     "execution_count": 12,
     "metadata": {},
     "output_type": "execute_result"
    }
   ],
   "source": [
    "#Teams present in the account\n",
    "teams_name"
   ]
  },
  {
   "cell_type": "code",
   "execution_count": 13,
   "metadata": {},
   "outputs": [
    {
     "name": "stdout",
     "output_type": "stream",
     "text": [
      "\n",
      "\n",
      "Which team would you like to click on ?\n",
      "\n",
      "Enter the team name  ::  CSB352 Data Mining\n"
     ]
    }
   ],
   "source": [
    "#Team want to click\n",
    "print(\"\\n\\nWhich team would you like to click on ?\\n\")\n",
    "team = input('Enter the team name  ::  ')\n",
    "if team in teams_name:\n",
    "    for t in teams:\n",
    "        if team == t.text:\n",
    "            t.click()\n",
    "            break\n",
    "else:\n",
    "    print(\"\\nOOPS!! selected team is not present!\")"
   ]
  },
  {
   "cell_type": "code",
   "execution_count": 22,
   "metadata": {},
   "outputs": [],
   "source": [
    "from selenium.webdriver.common.keys import Keys\n",
    "html = driver.find_element_by_tag_name('html')\n",
    "html.send_keys(Keys.)"
   ]
  },
  {
   "cell_type": "code",
   "execution_count": null,
   "metadata": {},
   "outputs": [],
   "source": []
  }
 ],
 "metadata": {
  "kernelspec": {
   "display_name": "Python 3",
   "language": "python",
   "name": "python3"
  },
  "language_info": {
   "codemirror_mode": {
    "name": "ipython",
    "version": 3
   },
   "file_extension": ".py",
   "mimetype": "text/x-python",
   "name": "python",
   "nbconvert_exporter": "python",
   "pygments_lexer": "ipython3",
   "version": "3.7.3"
  }
 },
 "nbformat": 4,
 "nbformat_minor": 2
}
